{
 "cells": [
  {
   "cell_type": "code",
   "execution_count": null,
   "id": "96b6c299",
   "metadata": {},
   "outputs": [],
   "source": [
    "import numpy as np\n",
    "from PIL import Image\n",
    "import os\n",
    "from PASAugmentor import PASAugmentor as PASAugmentor\n",
    "\n",
    "source_image = np.array(Image.open('./Images/SAS_21883_001-0.png'),dtype='uint8')\n",
    "for stain_augmentor_method in [\"PASAugmentor\", \"RandStainNA\"]:\n",
    "    os.makedirs(f'./Output/{stain_augmentor_method}', exist_ok=True)\n",
    "    for i in range(0,100):\n",
    "        augmenter = PASAugmentor(stain_augmentor=stain_augmentor_method,mode='Sequential', reference_matrix=i, p=1, background_removal=False)\n",
    "        augmented_image = augmenter(source_image)\n",
    "        Image.fromarray(augmented_image).save(f'./Output/{stain_augmentor_method}/{i}.png')"
   ]
  }
 ],
 "metadata": {
  "kernelspec": {
   "display_name": "PASAugmentor",
   "language": "python",
   "name": "python3"
  },
  "language_info": {
   "codemirror_mode": {
    "name": "ipython",
    "version": 3
   },
   "file_extension": ".py",
   "mimetype": "text/x-python",
   "name": "python",
   "nbconvert_exporter": "python",
   "pygments_lexer": "ipython3",
   "version": "3.10.13"
  }
 },
 "nbformat": 4,
 "nbformat_minor": 5
}
